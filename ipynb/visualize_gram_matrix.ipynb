{
 "cells": [
  {
   "cell_type": "code",
   "execution_count": 6,
   "metadata": {},
   "outputs": [
    {
     "name": "stdout",
     "output_type": "stream",
     "text": [
      "module imported\n",
      "The autoreload extension is already loaded. To reload it, use:\n",
      "  %reload_ext autoreload\n"
     ]
    }
   ],
   "source": [
    "import os\n",
    "import sys\n",
    "PATH = os.path.join(os.getcwd(), '..')\n",
    "sys.path.append(PATH)\n",
    "print(f'module imported')\n",
    "\n",
    "import numpy as np\n",
    "from PIL import Image\n",
    "import matplotlib.pyplot as plt\n",
    "import torch\n",
    "\n",
    "from src.common.lin_utils import gram_matrix\n",
    "from src.model.meta_model import MetaModel\n",
    "from src.model.hook import VGGHooks\n",
    "from src.data.tfms import get_style_transforms\n",
    "\n",
    "%load_ext autoreload\n",
    "%autoreload 2"
   ]
  },
  {
   "cell_type": "markdown",
   "metadata": {},
   "source": [
    "#### 1. Setup Model and Image"
   ]
  },
  {
   "cell_type": "code",
   "execution_count": 26,
   "metadata": {},
   "outputs": [
    {
     "name": "stderr",
     "output_type": "stream",
     "text": [
      "2020-04-07 21:24:45,410 — root — INFO — meta model is set\n"
     ]
    },
    {
     "data": {
      "text/plain": [
       "torch.Size([1, 3, 153, 128])"
      ]
     },
     "execution_count": 26,
     "metadata": {},
     "output_type": "execute_result"
    }
   ],
   "source": [
    "HOOK_VGG_IDXS = [3, 8, 15, 22]\n",
    "STYLE_PATH = os.path.join('..', 'style', 'cuson_arts.jpg')\n",
    "IMG_SIZE = 128\n",
    "\n",
    "# setup model\n",
    "model = MetaModel().cuda()\n",
    "\n",
    "# setup images\n",
    "style_img = Image.open(STYLE_PATH).convert('RGB')\n",
    "style_t = get_style_transforms(IMG_SIZE)(style_img)\n",
    "style_t = style_t.repeat(1, 1, 1, 1).cuda()\n",
    "style_t.shape"
   ]
  },
  {
   "cell_type": "code",
   "execution_count": 27,
   "metadata": {},
   "outputs": [],
   "source": [
    "ms = [model.vgg.subnet[idx] for idx in HOOK_VGG_IDXS]\n",
    "hooks = VGGHooks(ms, detach = False)"
   ]
  },
  {
   "cell_type": "markdown",
   "metadata": {},
   "source": [
    "#### 2. Get Gram Matrix"
   ]
  },
  {
   "cell_type": "code",
   "execution_count": 28,
   "metadata": {},
   "outputs": [],
   "source": [
    "t = model(style_t, vgg_only = True)"
   ]
  },
  {
   "cell_type": "code",
   "execution_count": 29,
   "metadata": {},
   "outputs": [
    {
     "name": "stdout",
     "output_type": "stream",
     "text": [
      "torch.Size([1, 64, 153, 128])\n",
      "torch.Size([1, 128, 76, 64])\n",
      "torch.Size([1, 256, 38, 32])\n",
      "torch.Size([1, 512, 19, 16])\n"
     ]
    }
   ],
   "source": [
    "for i in hooks.stored:\n",
    "    print(i.shape)"
   ]
  },
  {
   "cell_type": "code",
   "execution_count": 30,
   "metadata": {},
   "outputs": [],
   "source": [
    "gms = [gram_matrix(t) for t in hooks.stored]"
   ]
  },
  {
   "cell_type": "code",
   "execution_count": 31,
   "metadata": {},
   "outputs": [
    {
     "data": {
      "text/plain": [
       "torch.Size([1, 64, 64])"
      ]
     },
     "execution_count": 31,
     "metadata": {},
     "output_type": "execute_result"
    }
   ],
   "source": [
    "gms[0].shape"
   ]
  },
  {
   "cell_type": "markdown",
   "metadata": {},
   "source": [
    "#### 3. Visualize Parallel Gram Matrix"
   ]
  },
  {
   "cell_type": "code",
   "execution_count": 33,
   "metadata": {},
   "outputs": [],
   "source": [
    "def tensor2np(t_ls):\n",
    "    \"\"\"\n",
    "    convert list of tensor to list of numpy\n",
    "    \"\"\"\n",
    "    outs = []\n",
    "    for t in t_ls:\n",
    "        tmp = t.detach().cpu().numpy()\n",
    "        outs.append(tmp)\n",
    "    return outs"
   ]
  },
  {
   "cell_type": "code",
   "execution_count": 65,
   "metadata": {},
   "outputs": [],
   "source": [
    "def plot_gram_matrix_pairs(\n",
    "    gm1, gm2, fname = None, \n",
    "    title1 = 'Content Image Gram Matrix', title2 = 'Style Image Gram Matrix'\n",
    "    ):\n",
    "    fig, (ax1, ax2) = plt.subplots(1, 2, figsize= (15, 8))\n",
    "    ax1.imshow(gm1[0], vmin = 0, vmax = 0.08)\n",
    "    ax1.set_title(title1)\n",
    "    ax2.imshow(gm2[0], vmin = 0, vmax = 0.08)\n",
    "    ax2.set_title(title2)\n",
    "    plt.tight_layout()\n",
    "    if fname is not None:\n",
    "        fig.savefig(fname)\n",
    "        print(f'figure saved: {fname}')\n",
    "    return None"
   ]
  },
  {
   "cell_type": "code",
   "execution_count": 44,
   "metadata": {},
   "outputs": [
    {
     "name": "stdout",
     "output_type": "stream",
     "text": [
      "gm.shape = (1, 64, 64), type(gm) = <class 'numpy.ndarray'>\n",
      "mean = 0.006600883789360523, std = 0.009531776420772076\n",
      "gm.shape = (1, 128, 128), type(gm) = <class 'numpy.ndarray'>\n",
      "mean = 0.009192997589707375, std = 0.011511634103953838\n",
      "gm.shape = (1, 256, 256), type(gm) = <class 'numpy.ndarray'>\n",
      "mean = 0.0069821542128920555, std = 0.011233721859753132\n",
      "gm.shape = (1, 512, 512), type(gm) = <class 'numpy.ndarray'>\n",
      "mean = 0.0006642735097557306, std = 0.0017719134921208024\n"
     ]
    }
   ],
   "source": [
    "np_gms = tensor2np(gms)\n",
    "\n",
    "for gm in np_gms:\n",
    "    print(f'gm.shape = {gm.shape}, type(gm) = {type(gm)}')\n",
    "    print(f'mean = {gm.mean()}, std = {gm.std()}')"
   ]
  },
  {
   "cell_type": "code",
   "execution_count": 68,
   "metadata": {},
   "outputs": [
    {
     "name": "stdout",
     "output_type": "stream",
     "text": [
      "figure saved: test.png\n"
     ]
    },
    {
     "data": {
      "image/png": "[encoded data removed]",
      "text/plain": [
       "<Figure size 1080x576 with 2 Axes>"
      ]
     },
     "metadata": {
      "needs_background": "light"
     },
     "output_type": "display_data"
    }
   ],
   "source": [
    "plot_gram_matrix_pairs(np_gms[0], np_gms[0], fname = 'test.png')"
   ]
  },
  {
   "cell_type": "code",
   "execution_count": null,
   "metadata": {},
   "outputs": [],
   "source": []
  }
 ],
 "metadata": {
  "kernelspec": {
   "display_name": "Python 3",
   "language": "python",
   "name": "python3"
  },
  "language_info": {
   "codemirror_mode": {
    "name": "ipython",
    "version": 3
   },
   "file_extension": ".py",
   "mimetype": "text/x-python",
   "name": "python",
   "nbconvert_exporter": "python",
   "pygments_lexer": "ipython3",
   "version": "3.6.10"
  }
 },
 "nbformat": 4,
 "nbformat_minor": 2
}
